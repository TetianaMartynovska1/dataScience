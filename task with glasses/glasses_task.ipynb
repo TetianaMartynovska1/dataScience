{
 "cells": [
  {
   "cell_type": "markdown",
   "id": "8101d7e8-ea29-4834-98f1-7840a2715689",
   "metadata": {},
   "source": [
    "<h1 style=\"color:green;\"> Задача із стаканами </h1>"
   ]
  },
  {
   "cell_type": "markdown",
   "id": "ec9902c2-a006-45a2-89b3-508d229461e9",
   "metadata": {},
   "source": [
    "<h2 style=\"font-size:180%; text-align:center;\">Умова №1</h2>"
   ]
  },
  {
   "cell_type": "markdown",
   "id": "d82ff261-99c0-4a2d-9231-e8104e36d069",
   "metadata": {},
   "source": [
    "<p>Ця функція для знаходження кількості поверхів та їх номери для <b><i>2 склянок та 100 поверхів</b></p>"
   ]
  },
  {
   "cell_type": "markdown",
   "id": "b1514f77-28e5-47f7-84cc-259ec921e5c3",
   "metadata": {},
   "source": [
    "<ul>\n",
    "<li>За формулою арифметичної прогресії знаходимо перший поверх для перевірки. Рахуємо суму <b>x*(x+1)/2 поки >= 100 </b> збільшуючи крок на 1, починається з 1. Шукаємо кількість доданків. В результаті в мене вийшло <b>14</b>  </li>\n",
    "<li>Тоді ми проходимось по циклу від step=14 до 0, з кроком -1</li>\n",
    "<li>Починаємо з current = 0, тоді додаємо 14(початкове i) і записуємо у список, пізніше до нашого значення додаємо 13(дорівнює 27), після цього до наступного значення додаємо 12(дорівнює 39), продовжуємо цикл поки current менший 100, якщо умова не виконується, цикл перериваємо</li>\n",
    "<li><i>Додатково додала поверх №100, адже циклом він не враховувався, через переривання</i></li>\n",
    "</ul>"
   ]
  },
  {
   "cell_type": "code",
   "execution_count": 10,
   "id": "a21182cc-ddb2-469d-b6d8-80ca12d9e1e7",
   "metadata": {},
   "outputs": [],
   "source": [
    "def min_steps():\n",
    "    floors = 100\n",
    "    step = 1\n",
    "    while step * (step + 1) // 2 < floors:\n",
    "        step += 1\n",
    "\n",
    "    step_list = []\n",
    "    current = 0\n",
    "    for i in range(step, 0, -1):\n",
    "        current += i\n",
    "        if current > floors:\n",
    "            break\n",
    "        step_list.append(current)\n",
    "    step_list.append(100)\n",
    "    return print(\"Список номерів:\", step_list, \"\\nКількість спроб:\", step)\n"
   ]
  },
  {
   "cell_type": "code",
   "execution_count": 11,
   "id": "e8c617f6-3ce7-4d3d-abbf-1510b091f9b4",
   "metadata": {},
   "outputs": [
    {
     "name": "stdout",
     "output_type": "stream",
     "text": [
      "Список номерів: [14, 27, 39, 50, 60, 69, 77, 84, 90, 95, 99, 100] \n",
      "Кількість спроб: 14\n"
     ]
    }
   ],
   "source": [
    "min_steps()"
   ]
  },
  {
   "cell_type": "markdown",
   "id": "ad307d9d-ae7f-4d53-8b4c-c774227b1aa7",
   "metadata": {},
   "source": [
    "<h3><b>2 спосіб</b></h3>"
   ]
  },
  {
   "cell_type": "code",
   "execution_count": 29,
   "id": "2301bde9-5da8-41b5-9067-8a91bb72b14c",
   "metadata": {},
   "outputs": [],
   "source": [
    "from math import comb\n",
    "\n",
    "def min_steps():\n",
    "    floors = 100\n",
    "    glasses = 2\n",
    "    attempts = 1\n",
    "\n",
    "    while sum(comb(attempts, k) for k in range(1, glasses + 1)) < floors:\n",
    "        attempts += 1\n",
    "    return print(\"\\nКількість спроб: \", attempts)\n"
   ]
  },
  {
   "cell_type": "code",
   "execution_count": 30,
   "id": "d0c8b88b-68ff-47f6-a700-650e5088a9bb",
   "metadata": {},
   "outputs": [
    {
     "name": "stdout",
     "output_type": "stream",
     "text": [
      "\n",
      "Кількість спроб:  14\n"
     ]
    }
   ],
   "source": [
    "min_steps()"
   ]
  },
  {
   "cell_type": "markdown",
   "id": "567fbb6f-6537-4380-9cae-aefdcb700f57",
   "metadata": {},
   "source": [
    "<h2 style=\"font-size:180%; text-align:center;\">Умова №2</h2>"
   ]
  },
  {
   "cell_type": "markdown",
   "id": "1ede3859-3879-4434-bb6f-98a08dfa61aa",
   "metadata": {},
   "source": [
    "<p>Ця функція для знаходження кількості поверхів та їх номери для <b><i>3 склянок та 100 поверхів</b></p>"
   ]
  },
  {
   "cell_type": "markdown",
   "id": "595b808a-035f-4a3c-8f1f-ec089ba11f10",
   "metadata": {},
   "source": [
    "<ul>\n",
    "<li>За функцією comb шукаємо можливість вибору k з attempts варіантів</b>.Тобто застосовуємо комбінаторику і додаємо comb(attemps,k) поки не виконається умова сума, менша floors(100)</li>\n",
    "<li>Таким чином рахуємо кількість доданків(у нашому випадку 9)</li>\n",
    "<li><i>Виводимо наше значення</i></li>\n",
    "</ul>"
   ]
  },
  {
   "cell_type": "code",
   "execution_count": 31,
   "id": "bd45332a-2728-4c04-b01d-9a5ea29d50f8",
   "metadata": {},
   "outputs": [],
   "source": [
    "from math import comb\n",
    "\n",
    "def min_steps():\n",
    "    floors = 100\n",
    "    glasses = 3\n",
    "    attempts = 1\n",
    "\n",
    "    while sum(comb(attempts, k) for k in range(1, glasses + 1)) < floors:\n",
    "        attempts += 1\n",
    "    return print(\"\\nКількість спроб: \", attempts)\n"
   ]
  },
  {
   "cell_type": "code",
   "execution_count": 32,
   "id": "a6c86f64-d8d2-47cd-896e-465670e24ae0",
   "metadata": {},
   "outputs": [
    {
     "name": "stdout",
     "output_type": "stream",
     "text": [
      "\n",
      "Кількість спроб:  9\n"
     ]
    }
   ],
   "source": [
    "min_steps()"
   ]
  },
  {
   "cell_type": "markdown",
   "id": "2e2586e3-15ca-4d29-8ad5-535f52b51503",
   "metadata": {},
   "source": [
    "<h2 style=\"font-size:180%; text-align:center;\">Умова №3</h2>"
   ]
  },
  {
   "cell_type": "markdown",
   "id": "7d6d6e73-af36-4df6-bb48-cc39e523dec3",
   "metadata": {},
   "source": [
    "<p>Ця функція для знаходження кількості поверхів та їх номери для <b><i>5 склянок та 1000 поверхів</b></p>"
   ]
  },
  {
   "cell_type": "markdown",
   "id": "f2a03392-493d-4082-8377-4262dd48a824",
   "metadata": {},
   "source": [
    "<p><b>Це аналогічний алгоритм,як і в попередній задачі. Лише використовуємо як константа інші значення floors, attempts</b></p>"
   ]
  },
  {
   "cell_type": "code",
   "execution_count": 33,
   "id": "68a1fc28-ce13-4d57-addc-117849f15945",
   "metadata": {},
   "outputs": [],
   "source": [
    "from math import comb\n",
    "\n",
    "def min_steps():\n",
    "    floors = 1000\n",
    "    glasses = 5\n",
    "    attempts = 1\n",
    "\n",
    "    while sum(comb(attempts, k) for k in range(1, glasses + 1)) < floors:\n",
    "        attempts += 1\n",
    "    return print(\"\\nКількість спроб: \", attempts)\n"
   ]
  },
  {
   "cell_type": "code",
   "execution_count": 34,
   "id": "432f231e-9318-4023-81b0-9ebbc9205ae8",
   "metadata": {},
   "outputs": [
    {
     "name": "stdout",
     "output_type": "stream",
     "text": [
      "\n",
      "Кількість спроб:  11\n"
     ]
    }
   ],
   "source": [
    "min_steps()"
   ]
  }
 ],
 "metadata": {
  "kernelspec": {
   "display_name": "Python 3 (ipykernel)",
   "language": "python",
   "name": "python3"
  },
  "language_info": {
   "codemirror_mode": {
    "name": "ipython",
    "version": 3
   },
   "file_extension": ".py",
   "mimetype": "text/x-python",
   "name": "python",
   "nbconvert_exporter": "python",
   "pygments_lexer": "ipython3",
   "version": "3.12.7"
  }
 },
 "nbformat": 4,
 "nbformat_minor": 5
}
